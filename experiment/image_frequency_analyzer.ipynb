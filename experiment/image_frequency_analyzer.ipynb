{
 "cells": [
  {
   "cell_type": "code",
   "execution_count": 49,
   "metadata": {},
   "outputs": [],
   "source": [
    "import matplotlib.pyplot as plt  #import the required libraries\n",
    "import numpy as np\n",
    "import os\n",
    "import scipy.misc\n",
    "import scipy.stats\n",
    "import time"
   ]
  },
  {
   "cell_type": "code",
   "execution_count": 52,
   "metadata": {},
   "outputs": [],
   "source": [
    "def compare(image):\n",
    "    minElement = np.amin(image)  #getting the minimum pixel value(the darkest pixel) from the image\n",
    "    row = image.shape[0] #calculating the number of rows in the image\n",
    "    col = image.shape[1] #calculating the number of columns in the image\n",
    "    temp = minElement * np.ones((row,col)) #creating a temp array of the minimum pixel value\n",
    "    difference = np.subtract(temp,image) #subtracting the temp array and the given image\n",
    "    return np.average(difference) #returning the average for the difference array\n",
    "\n",
    "    "
   ]
  },
  {
   "cell_type": "code",
   "execution_count": 66,
   "metadata": {},
   "outputs": [
    {
     "name": "stdout",
     "output_type": "stream",
     "text": [
      "0.008036000000000154\n",
      "0.0062869999999999315\n"
     ]
    }
   ],
   "source": [
    "files = os.listdir(\"/home/dhawal/Downloads/data\")  #path of the folder\n",
    "for file in files: #iterating through the folder\n",
    "    start = time.clock() #starting the clock for a file\n",
    "    image = scipy.misc.imread(\"/home/dhawal/Downloads/data/\"+file,flatten=True) #reading the image and converting it to greyscale \n",
    "    frequencyCount = scipy.stats.itemfreq(image) #counting the frequency of each distinct pixel value\n",
    "    average = compare(image) #calculating the average of all pixel values to the darkest pixel value\n",
    "    timeTaken = time.clock() - start #calculating the time taken for performing the above functions\n",
    "    print(timeTaken) #printing out the time\n",
    "    \n",
    "    \n"
   ]
  },
  {
   "cell_type": "code",
   "execution_count": null,
   "metadata": {},
   "outputs": [],
   "source": []
  }
 ],
 "metadata": {
  "kernelspec": {
   "display_name": "Python 3",
   "language": "python",
   "name": "python3"
  },
  "language_info": {
   "codemirror_mode": {
    "name": "ipython",
    "version": 3
   },
   "file_extension": ".py",
   "mimetype": "text/x-python",
   "name": "python",
   "nbconvert_exporter": "python",
   "pygments_lexer": "ipython3",
   "version": "3.5.2"
  }
 },
 "nbformat": 4,
 "nbformat_minor": 2
}
